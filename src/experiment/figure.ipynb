{
 "cells": [
  {
   "cell_type": "code",
   "execution_count": null,
   "id": "4c7f8231",
   "metadata": {},
   "outputs": [],
   "source": [
    "import pandas as pd\n",
    "\n",
    "import matplotlib.pyplot as plt\n",
    "from sklearn.metrics import confusion_matrix\n",
    "\n",
    "import seaborn as sns\n",
    "import numpy as np\n",
    "import matplotlib.pyplot as plt"
   ]
  },
  {
   "cell_type": "code",
   "execution_count": null,
   "metadata": {},
   "outputs": [],
   "source": [
    "from pathlib import Path\n",
    "paper_figure_path = '/scratch/gilbreth/hongyu/src/2023-Jailbreak-Evaluation/figs'"
   ]
  },
  {
   "cell_type": "code",
   "execution_count": null,
   "id": "adfb8c1c",
   "metadata": {},
   "outputs": [],
   "source": [
    "from matplotlib.font_manager import fontManager, FontProperties\n",
    "\n",
    "path = fontManager.addfont('/home/hongyu/Downloads/song.otf')\n",
    "\n",
    "prop = FontProperties(fname=path)\n",
    "sns.set(font=prop.get_name())"
   ]
  },
  {
   "cell_type": "code",
   "execution_count": null,
   "id": "322bece2",
   "metadata": {},
   "outputs": [],
   "source": [
    "# model: Llama-2-7b-chat-hf\n",
    "# Universal and Transferable Adversarial Attacks on Aligned Language Models"
   ]
  },
  {
   "cell_type": "code",
   "execution_count": null,
   "id": "23c48c77",
   "metadata": {},
   "outputs": [],
   "source": [
    "df_0_0 = pd.read_csv('/scratch/gilbreth/hongyu/src/proj-jailbreak-evaluation/workdir/0_0_f3896f247e8e588eae6a0f7cc9a26f7f6637facf.csv')"
   ]
  },
  {
   "cell_type": "code",
   "execution_count": null,
   "id": "9f48e835",
   "metadata": {},
   "outputs": [],
   "source": [
    "cm_0_0 = confusion_matrix(df_0_0['manual_hongyu_safeguard_violation_label'], df_0_0['publication_report_jailbreak_label'])\n",
    "# True Label: manual_hongyu_safeguard_violation_label\n",
    "# Predicted Label: publication_report_jailbreak_label"
   ]
  },
  {
   "cell_type": "code",
   "execution_count": null,
   "id": "92be3840",
   "metadata": {},
   "outputs": [],
   "source": [
    "import seaborn as sns\n",
    "import numpy as np\n",
    "import matplotlib.pyplot as plt\n",
    "\n",
    "\n",
    "sns.set(rc = {'figure.figsize':(5,5)})\n",
    "sns.set(font_scale=3)\n",
    "\n",
    "h_0_0 = sns.heatmap(cm_0_0, annot=True, annot_kws={\"fontsize\": 65}, fmt=\"d\", cmap=\"Blues\", cbar=False)\n",
    "h_0_0.set_xticklabels(np.unique(df_0_0['manual_hongyu_safeguard_violation_label']))\n",
    "h_0_0.set_yticklabels(np.unique(df_0_0['manual_hongyu_safeguard_violation_label']))\n",
    "\n",
    "plt.xlabel('Predicted')\n",
    "plt.ylabel('Human Label')\n",
    "# plt.title(\"GCG\")\n",
    "\n",
    "plt.savefig(Path(paper_figure_path, 'confusion_matrix_0_0.eps'), format='eps', bbox_inches='tight')\n",
    "\n",
    "# plt.show()"
   ]
  },
  {
   "cell_type": "code",
   "execution_count": null,
   "id": "f3f29db7",
   "metadata": {},
   "outputs": [],
   "source": [
    "# model: Llama-2-7b-chat-hf"
   ]
  },
  {
   "cell_type": "code",
   "execution_count": null,
   "id": "3268018e",
   "metadata": {},
   "outputs": [],
   "source": [
    "df_0_1 = pd.read_csv('/scratch/gilbreth/hongyu/src/proj-jailbreak-evaluation/workdir/0_1_f3896f247e8e588eae6a0f7cc9a26f7f6637facf.csv')"
   ]
  },
  {
   "cell_type": "code",
   "execution_count": null,
   "id": "ce3c87d2",
   "metadata": {},
   "outputs": [],
   "source": [
    "cm_0_1 = confusion_matrix(df_0_1['manual_hongyu_safeguard_violation_label'], df_0_1['publication_report_jailbreak_label'])\n",
    "# True Label: manual_hongyu_safeguard_violation_label\n",
    "# Predicted Label: publication_report_jailbreak_label"
   ]
  },
  {
   "cell_type": "code",
   "execution_count": null,
   "id": "949f8c57",
   "metadata": {},
   "outputs": [],
   "source": [
    "cm_0_1"
   ]
  },
  {
   "cell_type": "code",
   "execution_count": null,
   "id": "1aae1d9e",
   "metadata": {
    "scrolled": true
   },
   "outputs": [],
   "source": [
    "import seaborn as sns\n",
    "import numpy as np\n",
    "import matplotlib.pyplot as plt\n",
    "\n",
    "sns.set(rc = {'figure.figsize':(5,5)})\n",
    "sns.set(font_scale=3)\n",
    "\n",
    "h_0_1 = sns.heatmap(cm_0_1, annot=True, annot_kws={\"fontsize\": 65}, fmt=\"d\", cmap=\"Blues\", cbar=False)\n",
    "h_0_1.set_xticklabels(np.unique(df_0_1['manual_hongyu_safeguard_violation_label']))\n",
    "h_0_1.set_yticklabels(np.unique(df_0_1['manual_hongyu_safeguard_violation_label']))\n",
    "\n",
    "plt.xlabel('Predicted')\n",
    "plt.ylabel('Human Label')\n",
    "# plt.title(\"EG\")\n",
    "\n",
    "plt.savefig(Path(paper_figure_path, 'confusion_matrix_0_1.eps'), format='eps', bbox_inches='tight')\n",
    "# plt.show()"
   ]
  },
  {
   "cell_type": "code",
   "execution_count": null,
   "metadata": {},
   "outputs": [],
   "source": []
  },
  {
   "cell_type": "code",
   "execution_count": null,
   "id": "954d63af",
   "metadata": {},
   "outputs": [],
   "source": []
  }
 ],
 "metadata": {
  "kernelspec": {
   "display_name": "Python 3.9 (Default)",
   "language": "python",
   "name": "python3"
  },
  "language_info": {
   "codemirror_mode": {
    "name": "ipython",
    "version": 3
   },
   "file_extension": ".py",
   "mimetype": "text/x-python",
   "name": "python",
   "nbconvert_exporter": "python",
   "pygments_lexer": "ipython3",
   "version": "3.11.5"
  }
 },
 "nbformat": 4,
 "nbformat_minor": 5
}
