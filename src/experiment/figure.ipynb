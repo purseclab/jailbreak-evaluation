{
 "cells": [
  {
   "cell_type": "code",
   "execution_count": null,
   "id": "4c7f8231",
   "metadata": {},
   "outputs": [],
   "source": [
    "import pandas as pd\n",
    "\n",
    "import matplotlib.pyplot as plt\n",
    "from sklearn.metrics import confusion_matrix\n",
    "\n",
    "import seaborn as sns\n",
    "import numpy as np\n",
    "import matplotlib.pyplot as plt"
   ]
  },
  {
   "cell_type": "code",
   "execution_count": null,
   "metadata": {},
   "outputs": [],
   "source": [
    "from pathlib import Path\n",
    "paper_figure_path = '/scratch/gilbreth/hongyu/src/2023-Jailbreak-Evaluation/figs'"
   ]
  },
  {
   "cell_type": "code",
   "execution_count": null,
   "metadata": {},
   "outputs": [],
   "source": [
    "def save_heatmap(cm, df, filename: str, title: str=None):\n",
    "    sns.set(rc = {'figure.figsize':(5,5)})\n",
    "    sns.set(font_scale=3)\n",
    "\n",
    "    h = sns.heatmap(cm, annot=True, annot_kws={\"fontsize\": 65}, fmt=\"d\", cmap=\"Blues\", cbar=False)\n",
    "    h.set_xticklabels(np.unique(df['manual_hongyu_safeguard_violation_label']))\n",
    "    h.set_yticklabels(np.unique(df['manual_hongyu_safeguard_violation_label']))\n",
    "\n",
    "    plt.xlabel('Predicted')\n",
    "    plt.ylabel('Human Label')\n",
    "    if title:\n",
    "        plt.title(title)\n",
    "\n",
    "    plt.savefig(Path(paper_figure_path, filename), format='eps', bbox_inches='tight')\n",
    "\n",
    "    # plt.show()"
   ]
  },
  {
   "cell_type": "code",
   "execution_count": null,
   "id": "adfb8c1c",
   "metadata": {},
   "outputs": [],
   "source": [
    "# from matplotlib.font_manager import fontManager, FontProperties\n",
    "\n",
    "# path = fontManager.addfont('/home/hongyu/Downloads/song.otf')\n",
    "\n",
    "# prop = FontProperties(fname=path)\n",
    "# sns.set(font=prop.get_name())"
   ]
  },
  {
   "cell_type": "code",
   "execution_count": null,
   "metadata": {},
   "outputs": [],
   "source": [
    "git_commit_hash = 'fa25c70fed6265b3a6691759c6a0b5a1a691d13a'"
   ]
  },
  {
   "cell_type": "code",
   "execution_count": null,
   "id": "322bece2",
   "metadata": {},
   "outputs": [],
   "source": [
    "# model: Llama-2-7b-chat-hf\n",
    "# Universal and Transferable Adversarial Attacks on Aligned Language Models"
   ]
  },
  {
   "cell_type": "code",
   "execution_count": null,
   "id": "23c48c77",
   "metadata": {},
   "outputs": [],
   "source": [
    "df_0_0 = pd.read_csv(f'/scratch/gilbreth/hongyu/src/proj-jailbreak-evaluation/workdir/0_0_{git_commit_hash}.csv')"
   ]
  },
  {
   "cell_type": "code",
   "execution_count": null,
   "id": "92be3840",
   "metadata": {},
   "outputs": [],
   "source": [
    "cm_0_0_safeguard_violation = confusion_matrix(df_0_0['manual_hongyu_safeguard_violation_label'], df_0_0['publication_report_jailbreak_label'])\n",
    "# True Label: manual_hongyu_safeguard_violation_label\n",
    "# Predicted Label: publication_report_jailbreak_label\n",
    "save_heatmap(cm_0_0_safeguard_violation, df_0_0, 'confusion_matrix_0_0_safeguard_violation.eps', title='GCG')"
   ]
  },
  {
   "cell_type": "code",
   "execution_count": null,
   "metadata": {},
   "outputs": [],
   "source": [
    "cm_0_0_intention_realization = confusion_matrix(df_0_0['manual_hongyu_intention_realization_label'], df_0_0['publication_report_jailbreak_label'])\n",
    "# True Label: manual_hongyu_intention_realization_label\n",
    "# Predicted Label: publication_report_jailbreak_label\n",
    "save_heatmap(cm_0_0_intention_realization, df_0_0, 'confusion_matrix_0_0_intention_realization.eps', title='GCG')"
   ]
  },
  {
   "cell_type": "code",
   "execution_count": null,
   "id": "f3f29db7",
   "metadata": {},
   "outputs": [],
   "source": [
    "# model: Llama-2-7b-chat-hf\n",
    "# Catastrophic (😔) Jailbreak of Open-source LLMs via Exploiting Generation"
   ]
  },
  {
   "cell_type": "code",
   "execution_count": null,
   "metadata": {},
   "outputs": [],
   "source": [
    "df_0_1 = pd.read_csv(f'/scratch/gilbreth/hongyu/src/proj-jailbreak-evaluation/workdir/0_1_{git_commit_hash}.csv')"
   ]
  },
  {
   "cell_type": "code",
   "execution_count": null,
   "id": "ce3c87d2",
   "metadata": {},
   "outputs": [],
   "source": [
    "cm_0_1_safeguard_violation = confusion_matrix(df_0_1['manual_hongyu_safeguard_violation_label'], df_0_1['publication_report_jailbreak_label'])\n",
    "# True Label: manual_hongyu_safeguard_violation_label\n",
    "# Predicted Label: publication_report_jailbreak_label\n",
    "save_heatmap(cm_0_1_safeguard_violation, df_0_1, 'confusion_matrix_0_1_safeguard_violation.eps', title='EG')"
   ]
  },
  {
   "cell_type": "code",
   "execution_count": null,
   "id": "1aae1d9e",
   "metadata": {
    "scrolled": true
   },
   "outputs": [],
   "source": [
    "cm_0_1_intention_realization = confusion_matrix(df_0_1['manual_hongyu_intention_realization_label'], df_0_1['publication_report_jailbreak_label'])\n",
    "# True Label: manual_hongyu_intention_realization_label\n",
    "# Predicted Label: publication_report_jailbreak_label\n",
    "save_heatmap(cm_0_1_intention_realization, df_0_1, 'confusion_matrix_0_1_intention_realization.eps', title='EG')"
   ]
  },
  {
   "cell_type": "markdown",
   "metadata": {},
   "source": []
  },
  {
   "cell_type": "code",
   "execution_count": null,
   "metadata": {},
   "outputs": [],
   "source": [
    "import pyx\n",
    "\n",
    "c = pyx.canvas.canvas()\n",
    "c.insert(pyx.epsfile.epsfile(0, 0, f\"{paper_figure_path}/confusion_matrix_0_0_safeguard_violation.eps\", align=\"tl\"))\n",
    "c.insert(pyx.epsfile.epsfile(0, 0, f\"{paper_figure_path}/confusion_matrix_0_1_safeguard_violation.eps\", align=\"tr\"), [pyx.trafo.translate(30, 0)])\n",
    "c.writeEPSfile(f\"{paper_figure_path}/confusion_matrix_safeguard_violation.eps\")"
   ]
  },
  {
   "cell_type": "code",
   "execution_count": null,
   "metadata": {},
   "outputs": [],
   "source": [
    "c = pyx.canvas.canvas()\n",
    "c.insert(pyx.epsfile.epsfile(0, 0, f\"{paper_figure_path}/confusion_matrix_0_0_intention_realization.eps\", align=\"tl\"))\n",
    "c.insert(pyx.epsfile.epsfile(0, 0, f\"{paper_figure_path}/confusion_matrix_0_1_intention_realization.eps\", align=\"tr\"), [pyx.trafo.translate(30, 0)])\n",
    "c.writeEPSfile(f\"{paper_figure_path}/confusion_matrix_intention_realization.eps\")"
   ]
  },
  {
   "cell_type": "code",
   "execution_count": null,
   "metadata": {},
   "outputs": [],
   "source": []
  },
  {
   "cell_type": "code",
   "execution_count": null,
   "metadata": {},
   "outputs": [],
   "source": []
  }
 ],
 "metadata": {
  "kernelspec": {
   "display_name": "Python 3.9 (Default)",
   "language": "python",
   "name": "python3"
  },
  "language_info": {
   "codemirror_mode": {
    "name": "ipython",
    "version": 3
   },
   "file_extension": ".py",
   "mimetype": "text/x-python",
   "name": "python",
   "nbconvert_exporter": "python",
   "pygments_lexer": "ipython3",
   "version": "3.11.5"
  }
 },
 "nbformat": 4,
 "nbformat_minor": 5
}
